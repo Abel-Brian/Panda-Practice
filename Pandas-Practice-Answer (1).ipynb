{
  "metadata": {
    "kernelspec": {
      "name": "python",
      "display_name": "Python (Pyodide)",
      "language": "python"
    },
    "language_info": {
      "codemirror_mode": {
        "name": "python",
        "version": 3
      },
      "file_extension": ".py",
      "mimetype": "text/x-python",
      "name": "python",
      "nbconvert_exporter": "python",
      "pygments_lexer": "ipython3",
      "version": "3.8"
    },
    "toc": {
      "nav_menu": {
        "height": "48px",
        "width": "252px"
      },
      "number_sections": true,
      "sideBar": true,
      "skip_h1_title": false,
      "toc_cell": false,
      "toc_position": {},
      "toc_section_display": "block",
      "toc_window_display": false
    }
  },
  "nbformat_minor": 4,
  "nbformat": 4,
  "cells": [
    {
      "cell_type": "markdown",
      "source": "# Part 1",
      "metadata": {
        "collapsed": true,
        "jupyter": {
          "outputs_hidden": true
        }
      }
    },
    {
      "cell_type": "markdown",
      "source": "The file \"Purchase_Data.csv\" contains purchase data at a Chinese supermarket for various products.  Read this csv into a dataframe called df_data and use the head() method to check that you have read in the data correctly. Make sure you import pandas.",
      "metadata": {}
    },
    {
      "cell_type": "code",
      "source": "import pandas as pd\n\n# directory \nfile_path = \"Data/Purchase_Data.csv\"\n\n# Read the CSV file into a DataFrame\ndf_data = pd.read_csv(file_path)\n\n# Display the first few rows of the DataFrame to verify\nprint(df_data.head())",
      "metadata": {
        "collapsed": false,
        "jupyter": {
          "outputs_hidden": false
        },
        "trusted": true
      },
      "outputs": [
        {
          "name": "stdout",
          "text": "   invoice_number   invoice_time store_id  product_id  category_id  num_item  \\\n0    2.020000e+11  7/15/15 10:45     G816     7000300       210101       1.0   \n1    2.020000e+11  7/15/15 12:16     G816     7070884        70203       1.0   \n2    2.020000e+11  7/15/15 12:16     G816     7070884        70203       1.0   \n3    2.020000e+11  7/15/15 12:16     G816     7070891        70401       1.0   \n4    2.020000e+11  7/15/15 12:16     G816     7090363        70401       1.0   \n\n   price  \n0    2.0  \n1    2.0  \n2    2.0  \n3    6.0  \n4    6.0  \n",
          "output_type": "stream"
        }
      ],
      "execution_count": 9
    },
    {
      "cell_type": "markdown",
      "source": "Use the dtypes attribute to view how each column is stored",
      "metadata": {}
    },
    {
      "cell_type": "code",
      "source": "#Write your code here\nprint(df_data.dtypes)",
      "metadata": {
        "collapsed": false,
        "jupyter": {
          "outputs_hidden": false
        },
        "trusted": true
      },
      "outputs": [
        {
          "name": "stdout",
          "text": "invoice_number    float64\ninvoice_time       object\nstore_id           object\nproduct_id          int64\ncategory_id         int64\nnum_item          float64\nprice             float64\ndtype: object\n",
          "output_type": "stream"
        }
      ],
      "execution_count": 10
    },
    {
      "cell_type": "markdown",
      "source": "Slice the first two columns using .loc and store the result in a variable called result_1.",
      "metadata": {}
    },
    {
      "cell_type": "code",
      "source": "#Write you code here\nresult_1 = df_data.loc[:, :'invoice_time']\n\n# Display\nprint(result_1)",
      "metadata": {
        "collapsed": false,
        "jupyter": {
          "outputs_hidden": false
        },
        "trusted": true
      },
      "outputs": [
        {
          "name": "stdout",
          "text": "      invoice_number   invoice_time\n0       2.020000e+11  7/15/15 10:45\n1       2.020000e+11  7/15/15 12:16\n2       2.020000e+11  7/15/15 12:16\n3       2.020000e+11  7/15/15 12:16\n4       2.020000e+11  7/15/15 12:16\n...              ...            ...\n5377    2.020000e+11   9/5/15 23:07\n5378    2.020000e+11   9/5/15 23:23\n5379    2.020000e+11   9/5/15 23:24\n5380    2.020000e+11   9/5/15 23:32\n5381    2.020000e+11   9/5/15 23:38\n\n[5382 rows x 2 columns]\n",
          "output_type": "stream"
        }
      ],
      "execution_count": 11
    },
    {
      "cell_type": "markdown",
      "source": "Slice the first two rows using .loc and store the result in a variable called result_2.",
      "metadata": {}
    },
    {
      "cell_type": "code",
      "source": "#Write you code here\nresult_2 = df_data.loc[:1]\n\n# Display\nprint(result_2)",
      "metadata": {
        "collapsed": false,
        "jupyter": {
          "outputs_hidden": false
        },
        "trusted": true
      },
      "outputs": [
        {
          "name": "stdout",
          "text": "   invoice_number   invoice_time store_id  product_id  category_id  num_item  \\\n0    2.020000e+11  7/15/15 10:45     G816     7000300       210101       1.0   \n1    2.020000e+11  7/15/15 12:16     G816     7070884        70203       1.0   \n\n   price  \n0    2.0  \n1    2.0  \n",
          "output_type": "stream"
        }
      ],
      "execution_count": 12
    },
    {
      "cell_type": "markdown",
      "source": "Slice the first four rows and the first five columns and store the result in a variable called result_3.",
      "metadata": {}
    },
    {
      "cell_type": "code",
      "source": "#Write your code here\nresult_3 = df_data.iloc[:4, :5]\n\n# Display\nprint(result_3)",
      "metadata": {
        "collapsed": false,
        "jupyter": {
          "outputs_hidden": false
        },
        "trusted": true
      },
      "outputs": [
        {
          "name": "stdout",
          "text": "   invoice_number   invoice_time store_id  product_id  category_id\n0    2.020000e+11  7/15/15 10:45     G816     7000300       210101\n1    2.020000e+11  7/15/15 12:16     G816     7070884        70203\n2    2.020000e+11  7/15/15 12:16     G816     7070884        70203\n3    2.020000e+11  7/15/15 12:16     G816     7070891        70401\n",
          "output_type": "stream"
        }
      ],
      "execution_count": 13
    },
    {
      "cell_type": "markdown",
      "source": "Slice rows 0,4,6 and columns invoice time and price and store the result in variable called result_4.",
      "metadata": {}
    },
    {
      "cell_type": "code",
      "source": "#Write your code here\nresult_4 = df_data.iloc[[0, 4, 6], [1, 3]]\n\n# Display \nprint(result_4)",
      "metadata": {
        "collapsed": false,
        "jupyter": {
          "outputs_hidden": false
        },
        "trusted": true
      },
      "outputs": [
        {
          "name": "stdout",
          "text": "    invoice_time  product_id\n0  7/15/15 10:45     7000300\n4  7/15/15 12:16     7090363\n6  7/15/15 15:28     7000126\n",
          "output_type": "stream"
        }
      ],
      "execution_count": 14
    },
    {
      "cell_type": "markdown",
      "source": "Store the number rows in a variable called num_rows.",
      "metadata": {}
    },
    {
      "cell_type": "code",
      "source": "num_rows = df_data.shape[0]\n\n# Display \nprint(\"Number of rows:\", num_rows)\n",
      "metadata": {
        "collapsed": false,
        "jupyter": {
          "outputs_hidden": false
        },
        "trusted": true
      },
      "outputs": [
        {
          "name": "stdout",
          "text": "Number of rows: 5382\n",
          "output_type": "stream"
        }
      ],
      "execution_count": 15
    },
    {
      "cell_type": "markdown",
      "source": "Print out the last row of the data to dataframe. **Hint:** use the variable num_rows from the previous exercise.",
      "metadata": {}
    },
    {
      "cell_type": "code",
      "source": "#Write your code here\nnum_rows = df_data.shape[0]\n\n# Print out the last row of the DataFrame\nprint(df_data.loc[num_rows - 1])",
      "metadata": {
        "collapsed": false,
        "jupyter": {
          "outputs_hidden": false
        },
        "trusted": true
      },
      "outputs": [
        {
          "name": "stdout",
          "text": "invoice_number    202000000000.0\ninvoice_time        9/5/15 23:38\nstore_id                    G619\nproduct_id              23030206\ncategory_id               210101\nnum_item                     1.0\nprice                        2.0\nName: 5381, dtype: object\n",
          "output_type": "stream"
        }
      ],
      "execution_count": 16
    },
    {
      "cell_type": "markdown",
      "source": "# Part 2",
      "metadata": {}
    },
    {
      "cell_type": "markdown",
      "source": "Compute the average and max price charged.  Store the results in variables called avg_price and max_price",
      "metadata": {}
    },
    {
      "cell_type": "code",
      "source": "#Write your code here\nimport pandas as pd\n\n#  directory \nfile_path = \"Data/Purchase_Data.csv\"\n\n# Read\ndf_data = pd.read_csv(file_path)\n\n# Compute\navg_price = df_data['price'].mean()\nmax_price = df_data['price'].max()\n\n# Display \nprint(\"Average price charged:\", avg_price)\nprint(\"Maximum price charged:\", max_price)\n",
      "metadata": {
        "collapsed": false,
        "jupyter": {
          "outputs_hidden": false
        },
        "trusted": true
      },
      "outputs": [
        {
          "name": "stdout",
          "text": "Average price charged: 3.1920522110741363\nMaximum price charged: 6.01\n",
          "output_type": "stream"
        }
      ],
      "execution_count": 17
    },
    {
      "cell_type": "markdown",
      "source": "Compute the average price and average number of items purchased with only a single call to the mean() method. Store these averages in avg_price and avg_num_items.",
      "metadata": {}
    },
    {
      "cell_type": "code",
      "source": "#Write you code here\navg_price, avg_num_items = df_data[['price', 'num_item']].mean()\n\n# Display the results\nprint(\"Average price:\", avg_price)\nprint(\"Average number of items purchased:\", avg_num_items)",
      "metadata": {
        "collapsed": false,
        "jupyter": {
          "outputs_hidden": false
        },
        "trusted": true
      },
      "outputs": [
        {
          "name": "stdout",
          "text": "Average price: 3.1920522110741363\nAverage number of items purchased: 1.2983091787439613\n",
          "output_type": "stream"
        }
      ],
      "execution_count": 18
    },
    {
      "cell_type": "markdown",
      "source": "Create a column called \"total\", which is the product of the price and num_item columns.",
      "metadata": {}
    },
    {
      "cell_type": "code",
      "source": "#Write your code here\ndf_data['total'] = df_data['price'] * df_data['num_item']\n\n# Display\nprint(df_data)",
      "metadata": {
        "collapsed": false,
        "jupyter": {
          "outputs_hidden": false
        },
        "trusted": true
      },
      "outputs": [
        {
          "name": "stdout",
          "text": "      invoice_number   invoice_time store_id  product_id  category_id  \\\n0       2.020000e+11  7/15/15 10:45     G816     7000300       210101   \n1       2.020000e+11  7/15/15 12:16     G816     7070884        70203   \n2       2.020000e+11  7/15/15 12:16     G816     7070884        70203   \n3       2.020000e+11  7/15/15 12:16     G816     7070891        70401   \n4       2.020000e+11  7/15/15 12:16     G816     7090363        70401   \n...              ...            ...      ...         ...          ...   \n5377    2.020000e+11   9/5/15 23:07      300     7308017       210101   \n5378    2.020000e+11   9/5/15 23:23     G619     7070891        70401   \n5379    2.020000e+11   9/5/15 23:24     G619     7071096        70201   \n5380    2.020000e+11   9/5/15 23:32     G619    15000231        70301   \n5381    2.020000e+11   9/5/15 23:38     G619    23030206       210101   \n\n      num_item  price  total  \n0          1.0    2.0    2.0  \n1          1.0    2.0    2.0  \n2          1.0    2.0    2.0  \n3          1.0    6.0    6.0  \n4          1.0    6.0    6.0  \n...        ...    ...    ...  \n5377       1.0    3.0    3.0  \n5378       1.0    6.0    6.0  \n5379       1.0    5.0    5.0  \n5380       2.0    2.0    4.0  \n5381       1.0    2.0    2.0  \n\n[5382 rows x 8 columns]\n",
          "output_type": "stream"
        }
      ],
      "execution_count": 19
    },
    {
      "cell_type": "markdown",
      "source": "What is the avgerage price of the three most expensive purchases? ",
      "metadata": {}
    },
    {
      "cell_type": "code",
      "source": "#Write your code here\nsorted_df = df_data.sort_values(by='price', ascending=False)\n\n# Select the top three rows (most expensive purchases)\ntop_three_expensive = sorted_df.head(3)\n\n# Calculate the average\navg_price_top_three = top_three_expensive['price'].mean()\n\n# Display the average\nprint(\"Average price of the three most expensive purchases:\", avg_price_top_three)",
      "metadata": {
        "collapsed": false,
        "jupyter": {
          "outputs_hidden": false
        },
        "trusted": true
      },
      "outputs": [
        {
          "name": "stdout",
          "text": "Average price of the three most expensive purchases: 6.003333333333333\n",
          "output_type": "stream"
        }
      ],
      "execution_count": 20
    },
    {
      "cell_type": "markdown",
      "source": "How many different products are there?",
      "metadata": {}
    },
    {
      "cell_type": "code",
      "source": "#Write your code here\nnum_unique_products = df_data['product_id'].nunique()\n\n# Display \nprint(\"Number of different products:\", num_unique_products)",
      "metadata": {
        "collapsed": false,
        "jupyter": {
          "outputs_hidden": false
        },
        "trusted": true
      },
      "outputs": [
        {
          "name": "stdout",
          "text": "Number of different products: 53\n",
          "output_type": "stream"
        }
      ],
      "execution_count": 21
    },
    {
      "cell_type": "markdown",
      "source": "Find the difference between the mean and median of the column total.  Use the describe() method and then index the dataframe it returns.",
      "metadata": {}
    },
    {
      "cell_type": "code",
      "source": "#Write your code here\nsummary_stats = df_data['total'].describe()\n\n# Extract the mean and median from the summary statistics \nmean_total = summary_stats.loc['mean']\nmedian_total = summary_stats.loc['50%']  # 50% corresponds to the median\n\n# Calculate \ndifference_mean_median = mean_total - median_total\n\n# Display\nprint(\"Difference between mean and median of 'total' column:\", difference_mean_median)",
      "metadata": {
        "collapsed": false,
        "jupyter": {
          "outputs_hidden": false
        },
        "trusted": true
      },
      "outputs": [
        {
          "name": "stdout",
          "text": "Difference between mean and median of 'total' column: 0.9318078781127839\n",
          "output_type": "stream"
        }
      ],
      "execution_count": 22
    },
    {
      "cell_type": "markdown",
      "source": "Use the drop() method to delete the column total from the dataframe df_data.",
      "metadata": {}
    },
    {
      "cell_type": "code",
      "source": "#Write your code here\ndf_data.drop(columns='total', inplace=True)\n\n# Display the DataFrame after dropping the column\nprint(df_data)",
      "metadata": {
        "collapsed": false,
        "jupyter": {
          "outputs_hidden": false
        },
        "trusted": true
      },
      "outputs": [
        {
          "name": "stdout",
          "text": "      invoice_number   invoice_time store_id  product_id  category_id  \\\n0       2.020000e+11  7/15/15 10:45     G816     7000300       210101   \n1       2.020000e+11  7/15/15 12:16     G816     7070884        70203   \n2       2.020000e+11  7/15/15 12:16     G816     7070884        70203   \n3       2.020000e+11  7/15/15 12:16     G816     7070891        70401   \n4       2.020000e+11  7/15/15 12:16     G816     7090363        70401   \n...              ...            ...      ...         ...          ...   \n5377    2.020000e+11   9/5/15 23:07      300     7308017       210101   \n5378    2.020000e+11   9/5/15 23:23     G619     7070891        70401   \n5379    2.020000e+11   9/5/15 23:24     G619     7071096        70201   \n5380    2.020000e+11   9/5/15 23:32     G619    15000231        70301   \n5381    2.020000e+11   9/5/15 23:38     G619    23030206       210101   \n\n      num_item  price  \n0          1.0    2.0  \n1          1.0    2.0  \n2          1.0    2.0  \n3          1.0    6.0  \n4          1.0    6.0  \n...        ...    ...  \n5377       1.0    3.0  \n5378       1.0    6.0  \n5379       1.0    5.0  \n5380       2.0    2.0  \n5381       1.0    2.0  \n\n[5382 rows x 7 columns]\n",
          "output_type": "stream"
        }
      ],
      "execution_count": 23
    },
    {
      "cell_type": "markdown",
      "source": "Let's dig a little deeper into the data set and answer some basic question.",
      "metadata": {}
    },
    {
      "cell_type": "code",
      "source": "#Write your code here\n",
      "metadata": {
        "collapsed": false,
        "jupyter": {
          "outputs_hidden": false
        },
        "trusted": true
      },
      "outputs": [],
      "execution_count": 24
    },
    {
      "cell_type": "markdown",
      "source": "First, covert the column invoice time to a datetime column. Print out the new column types to make sure this was done correctly",
      "metadata": {}
    },
    {
      "cell_type": "code",
      "source": "#Write your code here\ndf_data['invoice_time'] = pd.to_datetime(df_data['invoice_time'])\n\n# Print out the new column types\nprint(df_data.dtypes)",
      "metadata": {
        "collapsed": false,
        "jupyter": {
          "outputs_hidden": false
        },
        "trusted": true
      },
      "outputs": [
        {
          "name": "stdout",
          "text": "invoice_number           float64\ninvoice_time      datetime64[ns]\nstore_id                  object\nproduct_id                 int64\ncategory_id                int64\nnum_item                 float64\nprice                    float64\ndtype: object\n",
          "output_type": "stream"
        }
      ],
      "execution_count": 25
    },
    {
      "cell_type": "markdown",
      "source": "Next, let's create columns called \"DOW\" and \"Month\", which store the corresponding weekday and month of the invoice respectively.  Print the head of the dataframe to make sure this was done correctly.",
      "metadata": {}
    },
    {
      "cell_type": "code",
      "source": "#Write your code here\ndf_data['invoice_time'] = pd.to_datetime(df_data['invoice_time'])\n\n# Create new columns for Day of Week (DOW) and Month\ndf_data['DOW'] = df_data['invoice_time'].dt.day_name()\ndf_data['Month'] = df_data['invoice_time'].dt.month_name()\n\n# Print the head of the DataFrame to check the new columns\nprint(df_data.head())",
      "metadata": {
        "collapsed": false,
        "jupyter": {
          "outputs_hidden": false
        },
        "trusted": true
      },
      "outputs": [
        {
          "name": "stdout",
          "text": "   invoice_number        invoice_time store_id  product_id  category_id  \\\n0    2.020000e+11 2015-07-15 10:45:00     G816     7000300       210101   \n1    2.020000e+11 2015-07-15 12:16:00     G816     7070884        70203   \n2    2.020000e+11 2015-07-15 12:16:00     G816     7070884        70203   \n3    2.020000e+11 2015-07-15 12:16:00     G816     7070891        70401   \n4    2.020000e+11 2015-07-15 12:16:00     G816     7090363        70401   \n\n   num_item  price        DOW Month  \n0       1.0    2.0  Wednesday  July  \n1       1.0    2.0  Wednesday  July  \n2       1.0    2.0  Wednesday  July  \n3       1.0    6.0  Wednesday  July  \n4       1.0    6.0  Wednesday  July  \n",
          "output_type": "stream"
        }
      ],
      "execution_count": 26
    },
    {
      "cell_type": "markdown",
      "source": "Create a variable called num_purchases_wed, which stores the number of purchases made on Wednesday?  You should use value_counts and then index the series it return.",
      "metadata": {}
    },
    {
      "cell_type": "code",
      "source": "#Write your code here\ndf_data['invoice_time'] = pd.to_datetime(df_data['invoice_time'])\n\n# Create new columns for Day of Week (DOW) and Month\ndf_data['DOW'] = df_data['invoice_time'].dt.day_name()\n\n# Get the number of purchases made on Wednesday (DOW)\nnum_purchases_wed = df_data['DOW'].value_counts().loc['Wednesday']\n\n# Display the number of purchases made on Wednesday\nprint(\"Number of purchases made on Wednesday:\", num_purchases_wed)",
      "metadata": {
        "collapsed": false,
        "jupyter": {
          "outputs_hidden": false
        },
        "trusted": true
      },
      "outputs": [
        {
          "name": "stdout",
          "text": "Number of purchases made on Wednesday: 959\n",
          "output_type": "stream"
        }
      ],
      "execution_count": 27
    },
    {
      "cell_type": "markdown",
      "source": "# Part 3",
      "metadata": {}
    },
    {
      "cell_type": "markdown",
      "source": "In this set of practice exercises, we will be working with a demographic data regarding the passengers aboard the Titanic.  Read in the data frame and use the head() method to check that it was read in correctly.",
      "metadata": {}
    },
    {
      "cell_type": "code",
      "source": "#Write your code here\nimport pandas as pd\n\n#  titanic.csv directory \nfile_path = \"Data/Titanic.csv\"\n\n# Read \ndf_titanic = pd.read_csv(file_path)\n\n# Display \nprint(df_titanic.head())",
      "metadata": {
        "collapsed": false,
        "jupyter": {
          "outputs_hidden": false
        },
        "trusted": true
      },
      "outputs": [
        {
          "name": "stdout",
          "text": "   PassengerId  Pclass                                          Name     Sex  \\\n0          892       3                              Kelly, Mr. James    male   \n1          893       3              Wilkes, Mrs. James (Ellen Needs)  female   \n2          894       2                     Myles, Mr. Thomas Francis    male   \n3          895       3                              Wirz, Mr. Albert    male   \n4          896       3  Hirvonen, Mrs. Alexander (Helga E Lindqvist)  female   \n\n    Age  SibSp  Parch   Ticket     Fare Cabin Embarked  \n0  34.5      0      0   330911   7.8292   NaN        Q  \n1  47.0      1      0   363272   7.0000   NaN        S  \n2  62.0      0      0   240276   9.6875   NaN        Q  \n3  27.0      0      0   315154   8.6625   NaN        S  \n4  22.0      1      1  3101298  12.2875   NaN        S  \n",
          "output_type": "stream"
        }
      ],
      "execution_count": 49
    },
    {
      "cell_type": "markdown",
      "source": "Use the rename method to change the column \"Name\" to \"Passenger_Name\" and the column \"Ticket\" to \"Ticket_Num\".",
      "metadata": {}
    },
    {
      "cell_type": "code",
      "source": "#Write your code here\ndf_titanic.rename(columns={\"Name\": \"Passenger_Name\", \"Ticket\": \"Ticket_Num\"}, inplace=True)\n\n# Display\nprint(df_titanic.head())",
      "metadata": {
        "collapsed": false,
        "jupyter": {
          "outputs_hidden": false
        },
        "trusted": true
      },
      "outputs": [
        {
          "name": "stdout",
          "text": "   PassengerId  Pclass                                Passenger_Name     Sex  \\\n0          892       3                              Kelly, Mr. James    male   \n1          893       3              Wilkes, Mrs. James (Ellen Needs)  female   \n2          894       2                     Myles, Mr. Thomas Francis    male   \n3          895       3                              Wirz, Mr. Albert    male   \n4          896       3  Hirvonen, Mrs. Alexander (Helga E Lindqvist)  female   \n\n    Age  SibSp  Parch Ticket_Num     Fare Cabin Embarked  \n0  34.5      0      0     330911   7.8292   NaN        Q  \n1  47.0      1      0     363272   7.0000   NaN        S  \n2  62.0      0      0     240276   9.6875   NaN        Q  \n3  27.0      0      0     315154   8.6625   NaN        S  \n4  22.0      1      1    3101298  12.2875   NaN        S  \n",
          "output_type": "stream"
        }
      ],
      "execution_count": 50
    },
    {
      "cell_type": "markdown",
      "source": "Change the index of the df_titanic to the column PasengerID.",
      "metadata": {}
    },
    {
      "cell_type": "code",
      "source": "#Write your code here\ndf_titanic.set_index(\"PassengerId\", inplace=True)\n\n# Display \nprint(df_titanic.head())",
      "metadata": {
        "collapsed": false,
        "jupyter": {
          "outputs_hidden": false
        },
        "scrolled": true,
        "trusted": true
      },
      "outputs": [
        {
          "name": "stdout",
          "text": "             Pclass                                Passenger_Name     Sex  \\\nPassengerId                                                                 \n892               3                              Kelly, Mr. James    male   \n893               3              Wilkes, Mrs. James (Ellen Needs)  female   \n894               2                     Myles, Mr. Thomas Francis    male   \n895               3                              Wirz, Mr. Albert    male   \n896               3  Hirvonen, Mrs. Alexander (Helga E Lindqvist)  female   \n\n              Age  SibSp  Parch Ticket_Num     Fare Cabin Embarked  \nPassengerId                                                         \n892          34.5      0      0     330911   7.8292   NaN        Q  \n893          47.0      1      0     363272   7.0000   NaN        S  \n894          62.0      0      0     240276   9.6875   NaN        Q  \n895          27.0      0      0     315154   8.6625   NaN        S  \n896          22.0      1      1    3101298  12.2875   NaN        S  \n",
          "output_type": "stream"
        }
      ],
      "execution_count": 51
    },
    {
      "cell_type": "markdown",
      "source": "Select the name of passenger 896",
      "metadata": {}
    },
    {
      "cell_type": "code",
      "source": "#Write your code here\npassenger_name_896 = df_titanic.loc[896, \"Passenger_Name\"]\n\n# Display\nprint(\"Name of passenger 896:\", passenger_name_896)",
      "metadata": {
        "collapsed": false,
        "jupyter": {
          "outputs_hidden": false
        },
        "trusted": true
      },
      "outputs": [
        {
          "name": "stdout",
          "text": "Name of passenger 896: Hirvonen, Mrs. Alexander (Helga E Lindqvist)\n",
          "output_type": "stream"
        }
      ],
      "execution_count": 52
    },
    {
      "cell_type": "markdown",
      "source": "Change the index back to row numbers but making sure that we don't lose the PassengerId column. ",
      "metadata": {}
    },
    {
      "cell_type": "code",
      "source": "#Write your code here\ndf_titanic.reset_index(inplace=True)\n\n# Display \nprint(df_titanic.head())",
      "metadata": {
        "collapsed": false,
        "jupyter": {
          "outputs_hidden": false
        },
        "trusted": true
      },
      "outputs": [
        {
          "name": "stdout",
          "text": "   PassengerId  Pclass                                Passenger_Name     Sex  \\\n0          892       3                              Kelly, Mr. James    male   \n1          893       3              Wilkes, Mrs. James (Ellen Needs)  female   \n2          894       2                     Myles, Mr. Thomas Francis    male   \n3          895       3                              Wirz, Mr. Albert    male   \n4          896       3  Hirvonen, Mrs. Alexander (Helga E Lindqvist)  female   \n\n    Age  SibSp  Parch Ticket_Num     Fare Cabin Embarked  \n0  34.5      0      0     330911   7.8292   NaN        Q  \n1  47.0      1      0     363272   7.0000   NaN        S  \n2  62.0      0      0     240276   9.6875   NaN        Q  \n3  27.0      0      0     315154   8.6625   NaN        S  \n4  22.0      1      1    3101298  12.2875   NaN        S  \n",
          "output_type": "stream"
        }
      ],
      "execution_count": 53
    },
    {
      "cell_type": "markdown",
      "source": "How many missing entries are there in the Age column? Use the isnull() method and recall than Booleans are exactly like 1s (True) and 0s (False).",
      "metadata": {}
    },
    {
      "cell_type": "code",
      "source": "#Write you code here\nmissing_age_count = df_titanic['Age'].isnull().sum()\n\n# Display \nprint(\"Number of missing entries in the 'Age' column:\", missing_age_count)",
      "metadata": {
        "collapsed": false,
        "jupyter": {
          "outputs_hidden": false
        },
        "trusted": true
      },
      "outputs": [
        {
          "name": "stdout",
          "text": "Number of missing entries in the 'Age' column: 86\n",
          "output_type": "stream"
        }
      ],
      "execution_count": 54
    },
    {
      "cell_type": "markdown",
      "source": "Compute the avg age of passengers ignoring the missing data.",
      "metadata": {}
    },
    {
      "cell_type": "code",
      "source": "#Write your code here\navg_age_without_missing = df_titanic['Age'].dropna().mean()\n\n# Display the average age of passengers without missing data\nprint(\"Average age of passengers (ignoring missing data):\", avg_age_without_missing)",
      "metadata": {
        "collapsed": false,
        "jupyter": {
          "outputs_hidden": false
        },
        "trusted": true
      },
      "outputs": [
        {
          "name": "stdout",
          "text": "Average age of passengers (ignoring missing data): 30.272590361445783\n",
          "output_type": "stream"
        }
      ],
      "execution_count": 55
    },
    {
      "cell_type": "markdown",
      "source": "Using the fillna() method replace the missing values in the Age column with the mean.",
      "metadata": {}
    },
    {
      "cell_type": "code",
      "source": "#Write your code here\nmean_age = df_titanic['Age'].mean()\n\n# Replace missing values\ndf_titanic['Age'].fillna(mean_age, inplace=True)\n\n# Display \nprint(df_titanic.head())",
      "metadata": {
        "collapsed": false,
        "jupyter": {
          "outputs_hidden": false
        },
        "trusted": true
      },
      "outputs": [
        {
          "name": "stdout",
          "text": "   PassengerId  Pclass                                Passenger_Name     Sex  \\\n0          892       3                              Kelly, Mr. James    male   \n1          893       3              Wilkes, Mrs. James (Ellen Needs)  female   \n2          894       2                     Myles, Mr. Thomas Francis    male   \n3          895       3                              Wirz, Mr. Albert    male   \n4          896       3  Hirvonen, Mrs. Alexander (Helga E Lindqvist)  female   \n\n    Age  SibSp  Parch Ticket_Num     Fare Cabin Embarked  \n0  34.5      0      0     330911   7.8292   NaN        Q  \n1  47.0      1      0     363272   7.0000   NaN        S  \n2  62.0      0      0     240276   9.6875   NaN        Q  \n3  27.0      0      0     315154   8.6625   NaN        S  \n4  22.0      1      1    3101298  12.2875   NaN        S  \n",
          "output_type": "stream"
        }
      ],
      "execution_count": 56
    },
    {
      "cell_type": "markdown",
      "source": "What is the average age of the 5 oldest passengers? The reset_index method will be helpful here.",
      "metadata": {}
    },
    {
      "cell_type": "code",
      "source": "#Write your code here\ndf_oldest_passengers = df_titanic.sort_values(by='Age', ascending=False)\n\n# Select the top 5 rows (oldest passengers)\ntop_5_oldest_passengers = df_oldest_passengers.head(5)\n\n# Calculate \navg_age_oldest_passengers = top_5_oldest_passengers['Age'].mean()\n\n# Display \nprint(\"Average age of the 5 oldest passengers:\", avg_age_oldest_passengers)",
      "metadata": {
        "collapsed": false,
        "jupyter": {
          "outputs_hidden": false
        },
        "trusted": true
      },
      "outputs": [
        {
          "name": "stdout",
          "text": "Average age of the 5 oldest passengers: 67.0\n",
          "output_type": "stream"
        }
      ],
      "execution_count": 58
    }
  ]
}